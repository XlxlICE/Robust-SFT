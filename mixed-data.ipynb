{
 "cells": [
  {
   "cell_type": "code",
   "execution_count": 2,
   "id": "71572d4d",
   "metadata": {},
   "outputs": [
    {
     "name": "stdout",
     "output_type": "stream",
     "text": [
      "Collecting datasets\n",
      "  Downloading datasets-3.5.0-py3-none-any.whl.metadata (19 kB)\n",
      "Requirement already satisfied: filelock in /Users/shubing/opt/anaconda3/envs/SFT/lib/python3.13/site-packages (from datasets) (3.18.0)\n",
      "Requirement already satisfied: numpy>=1.17 in /Users/shubing/opt/anaconda3/envs/SFT/lib/python3.13/site-packages (from datasets) (2.2.4)\n",
      "Collecting pyarrow>=15.0.0 (from datasets)\n",
      "  Downloading pyarrow-19.0.1-cp313-cp313-macosx_12_0_arm64.whl.metadata (3.3 kB)\n",
      "Collecting dill<0.3.9,>=0.3.0 (from datasets)\n",
      "  Downloading dill-0.3.8-py3-none-any.whl.metadata (10 kB)\n",
      "Requirement already satisfied: pandas in /Users/shubing/opt/anaconda3/envs/SFT/lib/python3.13/site-packages (from datasets) (2.2.3)\n",
      "Requirement already satisfied: requests>=2.32.2 in /Users/shubing/opt/anaconda3/envs/SFT/lib/python3.13/site-packages (from datasets) (2.32.3)\n",
      "Requirement already satisfied: tqdm>=4.66.3 in /Users/shubing/opt/anaconda3/envs/SFT/lib/python3.13/site-packages (from datasets) (4.67.1)\n",
      "Collecting xxhash (from datasets)\n",
      "  Downloading xxhash-3.5.0-cp313-cp313-macosx_11_0_arm64.whl.metadata (12 kB)\n",
      "Collecting multiprocess<0.70.17 (from datasets)\n",
      "  Downloading multiprocess-0.70.16-py312-none-any.whl.metadata (7.2 kB)\n",
      "Collecting fsspec<=2024.12.0,>=2023.1.0 (from fsspec[http]<=2024.12.0,>=2023.1.0->datasets)\n",
      "  Downloading fsspec-2024.12.0-py3-none-any.whl.metadata (11 kB)\n",
      "Collecting aiohttp (from datasets)\n",
      "  Downloading aiohttp-3.11.18-cp313-cp313-macosx_11_0_arm64.whl.metadata (7.7 kB)\n",
      "Requirement already satisfied: huggingface-hub>=0.24.0 in /Users/shubing/opt/anaconda3/envs/SFT/lib/python3.13/site-packages (from datasets) (0.29.3)\n",
      "Requirement already satisfied: packaging in /Users/shubing/opt/anaconda3/envs/SFT/lib/python3.13/site-packages (from datasets) (24.2)\n",
      "Requirement already satisfied: pyyaml>=5.1 in /Users/shubing/opt/anaconda3/envs/SFT/lib/python3.13/site-packages (from datasets) (6.0.2)\n",
      "Collecting aiohappyeyeballs>=2.3.0 (from aiohttp->datasets)\n",
      "  Downloading aiohappyeyeballs-2.6.1-py3-none-any.whl.metadata (5.9 kB)\n",
      "Collecting aiosignal>=1.1.2 (from aiohttp->datasets)\n",
      "  Downloading aiosignal-1.3.2-py2.py3-none-any.whl.metadata (3.8 kB)\n",
      "Collecting attrs>=17.3.0 (from aiohttp->datasets)\n",
      "  Downloading attrs-25.3.0-py3-none-any.whl.metadata (10 kB)\n",
      "Collecting frozenlist>=1.1.1 (from aiohttp->datasets)\n",
      "  Downloading frozenlist-1.6.0-cp313-cp313-macosx_11_0_arm64.whl.metadata (16 kB)\n",
      "Collecting multidict<7.0,>=4.5 (from aiohttp->datasets)\n",
      "  Downloading multidict-6.4.3-cp313-cp313-macosx_11_0_arm64.whl.metadata (5.3 kB)\n",
      "Collecting propcache>=0.2.0 (from aiohttp->datasets)\n",
      "  Downloading propcache-0.3.1-cp313-cp313-macosx_11_0_arm64.whl.metadata (10 kB)\n",
      "Collecting yarl<2.0,>=1.17.0 (from aiohttp->datasets)\n",
      "  Downloading yarl-1.20.0-cp313-cp313-macosx_11_0_arm64.whl.metadata (72 kB)\n",
      "Requirement already satisfied: typing-extensions>=3.7.4.3 in /Users/shubing/opt/anaconda3/envs/SFT/lib/python3.13/site-packages (from huggingface-hub>=0.24.0->datasets) (4.12.2)\n",
      "Requirement already satisfied: charset-normalizer<4,>=2 in /Users/shubing/opt/anaconda3/envs/SFT/lib/python3.13/site-packages (from requests>=2.32.2->datasets) (3.4.1)\n",
      "Requirement already satisfied: idna<4,>=2.5 in /Users/shubing/opt/anaconda3/envs/SFT/lib/python3.13/site-packages (from requests>=2.32.2->datasets) (3.10)\n",
      "Requirement already satisfied: urllib3<3,>=1.21.1 in /Users/shubing/opt/anaconda3/envs/SFT/lib/python3.13/site-packages (from requests>=2.32.2->datasets) (2.3.0)\n",
      "Requirement already satisfied: certifi>=2017.4.17 in /Users/shubing/opt/anaconda3/envs/SFT/lib/python3.13/site-packages (from requests>=2.32.2->datasets) (2025.1.31)\n",
      "Requirement already satisfied: python-dateutil>=2.8.2 in /Users/shubing/opt/anaconda3/envs/SFT/lib/python3.13/site-packages (from pandas->datasets) (2.9.0.post0)\n",
      "Requirement already satisfied: pytz>=2020.1 in /Users/shubing/opt/anaconda3/envs/SFT/lib/python3.13/site-packages (from pandas->datasets) (2025.1)\n",
      "Requirement already satisfied: tzdata>=2022.7 in /Users/shubing/opt/anaconda3/envs/SFT/lib/python3.13/site-packages (from pandas->datasets) (2025.1)\n",
      "Requirement already satisfied: six>=1.5 in /Users/shubing/opt/anaconda3/envs/SFT/lib/python3.13/site-packages (from python-dateutil>=2.8.2->pandas->datasets) (1.17.0)\n",
      "Downloading datasets-3.5.0-py3-none-any.whl (491 kB)\n",
      "Downloading dill-0.3.8-py3-none-any.whl (116 kB)\n",
      "Downloading fsspec-2024.12.0-py3-none-any.whl (183 kB)\n",
      "Downloading aiohttp-3.11.18-cp313-cp313-macosx_11_0_arm64.whl (454 kB)\n",
      "Downloading multiprocess-0.70.16-py312-none-any.whl (146 kB)\n",
      "Downloading pyarrow-19.0.1-cp313-cp313-macosx_12_0_arm64.whl (30.7 MB)\n",
      "\u001b[2K   \u001b[90m━━━━━━━━━━━━━━━━━━━━━━━━━━━━━━━━━━━━━━━━\u001b[0m \u001b[32m30.7/30.7 MB\u001b[0m \u001b[31m15.8 MB/s\u001b[0m eta \u001b[36m0:00:00\u001b[0ma \u001b[36m0:00:01\u001b[0m\n",
      "\u001b[?25hDownloading xxhash-3.5.0-cp313-cp313-macosx_11_0_arm64.whl (30 kB)\n",
      "Downloading aiohappyeyeballs-2.6.1-py3-none-any.whl (15 kB)\n",
      "Downloading aiosignal-1.3.2-py2.py3-none-any.whl (7.6 kB)\n",
      "Downloading attrs-25.3.0-py3-none-any.whl (63 kB)\n",
      "Downloading frozenlist-1.6.0-cp313-cp313-macosx_11_0_arm64.whl (120 kB)\n",
      "Downloading multidict-6.4.3-cp313-cp313-macosx_11_0_arm64.whl (36 kB)\n",
      "Downloading propcache-0.3.1-cp313-cp313-macosx_11_0_arm64.whl (44 kB)\n",
      "Downloading yarl-1.20.0-cp313-cp313-macosx_11_0_arm64.whl (94 kB)\n",
      "Installing collected packages: xxhash, pyarrow, propcache, multidict, fsspec, frozenlist, dill, attrs, aiohappyeyeballs, yarl, multiprocess, aiosignal, aiohttp, datasets\n",
      "  Attempting uninstall: fsspec\n",
      "    Found existing installation: fsspec 2025.3.0\n",
      "    Uninstalling fsspec-2025.3.0:\n",
      "      Successfully uninstalled fsspec-2025.3.0\n",
      "Successfully installed aiohappyeyeballs-2.6.1 aiohttp-3.11.18 aiosignal-1.3.2 attrs-25.3.0 datasets-3.5.0 dill-0.3.8 frozenlist-1.6.0 fsspec-2024.12.0 multidict-6.4.3 multiprocess-0.70.16 propcache-0.3.1 pyarrow-19.0.1 xxhash-3.5.0 yarl-1.20.0\n"
     ]
    }
   ],
   "source": [
    "!pip install datasets"
   ]
  },
  {
   "cell_type": "code",
   "execution_count": 3,
   "id": "1748c1b3",
   "metadata": {},
   "outputs": [
    {
     "name": "stderr",
     "output_type": "stream",
     "text": [
      "/Users/shubing/opt/anaconda3/envs/SFT/lib/python3.13/site-packages/tqdm/auto.py:21: TqdmWarning: IProgress not found. Please update jupyter and ipywidgets. See https://ipywidgets.readthedocs.io/en/stable/user_install.html\n",
      "  from .autonotebook import tqdm as notebook_tqdm\n",
      "Generating train split: 100%|██████████| 52002/52002 [00:00<00:00, 848058.62 examples/s]\n"
     ]
    }
   ],
   "source": [
    "from datasets import load_dataset\n",
    "import json\n",
    "\n",
    "ds = load_dataset(\"tatsu-lab/alpaca\")[\"train\"]\n",
    "\n",
    "with open(\"clean.jsonl\", \"w\", encoding=\"utf-8\") as f:\n",
    "    for example in ds:\n",
    "        json.dump({\n",
    "            \"prompt\": example[\"instruction\"],\n",
    "            \"answer\": example[\"output\"]\n",
    "        }, f, ensure_ascii=False)\n",
    "        f.write(\"\\n\")"
   ]
  },
  {
   "cell_type": "code",
   "execution_count": 7,
   "id": "75ffb3ec",
   "metadata": {},
   "outputs": [
    {
     "name": "stdout",
     "output_type": "stream",
     "text": [
      "[OK] Extracted 38961 red prompts.\n"
     ]
    }
   ],
   "source": [
    "import gzip\n",
    "import json\n",
    "import re\n",
    "\n",
    "def extract_human_transcript(transcript):\n",
    "    return \"\\n\".join(re.findall(r'Human:\\s*(.*?)\\n', transcript, re.DOTALL)).strip()\n",
    "\n",
    "red_prompts = []\n",
    "\n",
    "# 将整个 gzip 解压 + 解析为 JSON\n",
    "with gzip.open(\"data/red-team-attempts/red_team_attempts.jsonl.gz\", \"rt\", encoding=\"utf-8\") as f:\n",
    "    content = f.read()\n",
    "    data = json.loads(content)  # 注意：整个文件是 JSON，不是 JSONL\n",
    "\n",
    "    for i, item in enumerate(data):\n",
    "        # 每一项可能是 list 或 dict\n",
    "        if isinstance(item, list):\n",
    "            for d in item:\n",
    "                if \"transcript\" in d:\n",
    "                    prompt = extract_human_transcript(d[\"transcript\"])\n",
    "                    red_prompts.append({\"prompt\": prompt, \"answer\": \"[NO OUTPUT]\"})\n",
    "        elif isinstance(item, dict) and \"transcript\" in item:\n",
    "            prompt = extract_human_transcript(item[\"transcript\"])\n",
    "            red_prompts.append({\"prompt\": prompt, \"answer\": \"[NO OUTPUT]\"})\n",
    "\n",
    "print(f\"[OK] Extracted {len(red_prompts)} red prompts.\")"
   ]
  },
  {
   "cell_type": "code",
   "execution_count": 8,
   "id": "d696e37c",
   "metadata": {},
   "outputs": [],
   "source": [
    "import random\n",
    "from pathlib import Path\n",
    "\n",
    "def mix_clean_and_red(clean_path, red_data, ratios, output_dir):\n",
    "    with open(clean_path, \"r\", encoding=\"utf-8\") as f:\n",
    "        clean_data = [json.loads(line) for line in f]\n",
    "\n",
    "    Path(output_dir).mkdir(exist_ok=True)\n",
    "\n",
    "    for rho in ratios:\n",
    "        n_red = int(len(clean_data) * rho)\n",
    "        red_sample = random.sample(red_data, min(n_red, len(red_data)))\n",
    "        mixed = clean_data + red_sample\n",
    "        random.shuffle(mixed)\n",
    "        \n",
    "        with open(f\"{output_dir}/sft_rho{int(rho*100)}.jsonl\", \"w\", encoding=\"utf-8\") as f:\n",
    "            for item in mixed:\n",
    "                f.write(json.dumps(item, ensure_ascii=False) + \"\\n\")\n",
    "\n",
    "# 运行\n",
    "mix_clean_and_red(\"clean.jsonl\", red_prompts, ratios=[0.0, 0.01, 0.05, 0.1, 0.2], output_dir=\"mixed_sft\")"
   ]
  },
  {
   "cell_type": "code",
   "execution_count": 9,
   "id": "59eedb7f",
   "metadata": {},
   "outputs": [
    {
     "name": "stdout",
     "output_type": "stream",
     "text": [
      "Sample 1:\n",
      "Prompt: Insert an appropriate verb into the phrase \"_____ with enthusiasm.\" \n",
      "Answer: Embrace with enthusiasm. \n",
      "--------------------------------------------------\n",
      "Sample 2:\n",
      "Prompt: Describe how a plant converts the sun's energy into food. \n",
      "Answer: Plants are able to convert the sun's energy into food through a process called photosynthesis. Photo ...\n",
      "--------------------------------------------------\n",
      "Sample 3:\n",
      "Prompt: Who is the most important person in history? \n",
      "Answer: It is difficult to pinpoint a single person as the most prominent or important person in history sin ...\n",
      "--------------------------------------------------\n"
     ]
    }
   ],
   "source": [
    "def preview_jsonl(path, n=5):\n",
    "    with open(path, 'r', encoding='utf-8') as f:\n",
    "        for i, line in enumerate(f):\n",
    "            if i >= n:\n",
    "                break\n",
    "            obj = json.loads(line)\n",
    "            print(f\"Sample {i+1}:\")\n",
    "            print(\"Prompt:\", obj[\"prompt\"][:100], \"...\" if len(obj[\"prompt\"]) > 100 else \"\")\n",
    "            print(\"Answer:\", obj[\"answer\"][:100], \"...\" if len(obj[\"answer\"]) > 100 else \"\")\n",
    "            print(\"-\" * 50)\n",
    "\n",
    "# 使用示例\n",
    "preview_jsonl(\"mixed_sft/sft_rho5.jsonl\", n=3)"
   ]
  }
 ],
 "metadata": {
  "kernelspec": {
   "display_name": "SFT",
   "language": "python",
   "name": "python3"
  },
  "language_info": {
   "codemirror_mode": {
    "name": "ipython",
    "version": 3
   },
   "file_extension": ".py",
   "mimetype": "text/x-python",
   "name": "python",
   "nbconvert_exporter": "python",
   "pygments_lexer": "ipython3",
   "version": "3.13.2"
  }
 },
 "nbformat": 4,
 "nbformat_minor": 5
}
