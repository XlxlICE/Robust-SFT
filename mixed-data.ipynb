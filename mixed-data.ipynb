{
 "cells": [
  {
   "cell_type": "code",
   "execution_count": 1,
   "id": "71572d4d",
   "metadata": {},
   "outputs": [
    {
     "name": "stdout",
     "output_type": "stream",
     "text": [
      "Requirement already satisfied: datasets in /Users/shubing/opt/anaconda3/envs/SFT/lib/python3.13/site-packages (3.5.0)\n",
      "Requirement already satisfied: filelock in /Users/shubing/opt/anaconda3/envs/SFT/lib/python3.13/site-packages (from datasets) (3.18.0)\n",
      "Requirement already satisfied: numpy>=1.17 in /Users/shubing/opt/anaconda3/envs/SFT/lib/python3.13/site-packages (from datasets) (2.2.4)\n",
      "Requirement already satisfied: pyarrow>=15.0.0 in /Users/shubing/opt/anaconda3/envs/SFT/lib/python3.13/site-packages (from datasets) (19.0.1)\n",
      "Requirement already satisfied: dill<0.3.9,>=0.3.0 in /Users/shubing/opt/anaconda3/envs/SFT/lib/python3.13/site-packages (from datasets) (0.3.8)\n",
      "Requirement already satisfied: pandas in /Users/shubing/opt/anaconda3/envs/SFT/lib/python3.13/site-packages (from datasets) (2.2.3)\n",
      "Requirement already satisfied: requests>=2.32.2 in /Users/shubing/opt/anaconda3/envs/SFT/lib/python3.13/site-packages (from datasets) (2.32.3)\n",
      "Requirement already satisfied: tqdm>=4.66.3 in /Users/shubing/opt/anaconda3/envs/SFT/lib/python3.13/site-packages (from datasets) (4.67.1)\n",
      "Requirement already satisfied: xxhash in /Users/shubing/opt/anaconda3/envs/SFT/lib/python3.13/site-packages (from datasets) (3.5.0)\n",
      "Requirement already satisfied: multiprocess<0.70.17 in /Users/shubing/opt/anaconda3/envs/SFT/lib/python3.13/site-packages (from datasets) (0.70.16)\n",
      "Requirement already satisfied: fsspec<=2024.12.0,>=2023.1.0 in /Users/shubing/opt/anaconda3/envs/SFT/lib/python3.13/site-packages (from fsspec[http]<=2024.12.0,>=2023.1.0->datasets) (2024.12.0)\n",
      "Requirement already satisfied: aiohttp in /Users/shubing/opt/anaconda3/envs/SFT/lib/python3.13/site-packages (from datasets) (3.11.18)\n",
      "Requirement already satisfied: huggingface-hub>=0.24.0 in /Users/shubing/opt/anaconda3/envs/SFT/lib/python3.13/site-packages (from datasets) (0.29.3)\n",
      "Requirement already satisfied: packaging in /Users/shubing/opt/anaconda3/envs/SFT/lib/python3.13/site-packages (from datasets) (24.2)\n",
      "Requirement already satisfied: pyyaml>=5.1 in /Users/shubing/opt/anaconda3/envs/SFT/lib/python3.13/site-packages (from datasets) (6.0.2)\n",
      "Requirement already satisfied: aiohappyeyeballs>=2.3.0 in /Users/shubing/opt/anaconda3/envs/SFT/lib/python3.13/site-packages (from aiohttp->datasets) (2.6.1)\n",
      "Requirement already satisfied: aiosignal>=1.1.2 in /Users/shubing/opt/anaconda3/envs/SFT/lib/python3.13/site-packages (from aiohttp->datasets) (1.3.2)\n",
      "Requirement already satisfied: attrs>=17.3.0 in /Users/shubing/opt/anaconda3/envs/SFT/lib/python3.13/site-packages (from aiohttp->datasets) (25.3.0)\n",
      "Requirement already satisfied: frozenlist>=1.1.1 in /Users/shubing/opt/anaconda3/envs/SFT/lib/python3.13/site-packages (from aiohttp->datasets) (1.6.0)\n",
      "Requirement already satisfied: multidict<7.0,>=4.5 in /Users/shubing/opt/anaconda3/envs/SFT/lib/python3.13/site-packages (from aiohttp->datasets) (6.4.3)\n",
      "Requirement already satisfied: propcache>=0.2.0 in /Users/shubing/opt/anaconda3/envs/SFT/lib/python3.13/site-packages (from aiohttp->datasets) (0.3.1)\n",
      "Requirement already satisfied: yarl<2.0,>=1.17.0 in /Users/shubing/opt/anaconda3/envs/SFT/lib/python3.13/site-packages (from aiohttp->datasets) (1.20.0)\n",
      "Requirement already satisfied: typing-extensions>=3.7.4.3 in /Users/shubing/opt/anaconda3/envs/SFT/lib/python3.13/site-packages (from huggingface-hub>=0.24.0->datasets) (4.12.2)\n",
      "Requirement already satisfied: charset-normalizer<4,>=2 in /Users/shubing/opt/anaconda3/envs/SFT/lib/python3.13/site-packages (from requests>=2.32.2->datasets) (3.4.1)\n",
      "Requirement already satisfied: idna<4,>=2.5 in /Users/shubing/opt/anaconda3/envs/SFT/lib/python3.13/site-packages (from requests>=2.32.2->datasets) (3.10)\n",
      "Requirement already satisfied: urllib3<3,>=1.21.1 in /Users/shubing/opt/anaconda3/envs/SFT/lib/python3.13/site-packages (from requests>=2.32.2->datasets) (2.3.0)\n",
      "Requirement already satisfied: certifi>=2017.4.17 in /Users/shubing/opt/anaconda3/envs/SFT/lib/python3.13/site-packages (from requests>=2.32.2->datasets) (2025.1.31)\n",
      "Requirement already satisfied: python-dateutil>=2.8.2 in /Users/shubing/opt/anaconda3/envs/SFT/lib/python3.13/site-packages (from pandas->datasets) (2.9.0.post0)\n",
      "Requirement already satisfied: pytz>=2020.1 in /Users/shubing/opt/anaconda3/envs/SFT/lib/python3.13/site-packages (from pandas->datasets) (2025.1)\n",
      "Requirement already satisfied: tzdata>=2022.7 in /Users/shubing/opt/anaconda3/envs/SFT/lib/python3.13/site-packages (from pandas->datasets) (2025.1)\n",
      "Requirement already satisfied: six>=1.5 in /Users/shubing/opt/anaconda3/envs/SFT/lib/python3.13/site-packages (from python-dateutil>=2.8.2->pandas->datasets) (1.17.0)\n"
     ]
    }
   ],
   "source": [
    "!pip install datasets"
   ]
  },
  {
   "cell_type": "code",
   "execution_count": 2,
   "id": "1748c1b3",
   "metadata": {},
   "outputs": [
    {
     "name": "stderr",
     "output_type": "stream",
     "text": [
      "/Users/shubing/opt/anaconda3/envs/SFT/lib/python3.13/site-packages/tqdm/auto.py:21: TqdmWarning: IProgress not found. Please update jupyter and ipywidgets. See https://ipywidgets.readthedocs.io/en/stable/user_install.html\n",
      "  from .autonotebook import tqdm as notebook_tqdm\n"
     ]
    }
   ],
   "source": [
    "from datasets import load_dataset\n",
    "import json\n",
    "\n",
    "ds = load_dataset(\"tatsu-lab/alpaca\")[\"train\"]\n",
    "\n",
    "with open(\"clean.jsonl\", \"w\", encoding=\"utf-8\") as f:\n",
    "    for example in ds:\n",
    "        json.dump({\n",
    "            \"prompt\": example[\"instruction\"],\n",
    "            \"answer\": example[\"output\"]\n",
    "        }, f, ensure_ascii=False)\n",
    "        f.write(\"\\n\")"
   ]
  },
  {
   "cell_type": "code",
   "execution_count": 3,
   "id": "75ffb3ec",
   "metadata": {},
   "outputs": [
    {
     "name": "stdout",
     "output_type": "stream",
     "text": [
      "[OK] Extracted 38961 red prompts.\n"
     ]
    }
   ],
   "source": [
    "import gzip\n",
    "import json\n",
    "import re\n",
    "\n",
    "def extract_human_transcript(transcript):\n",
    "    return \"\\n\".join(re.findall(r'Human:\\s*(.*?)\\n', transcript, re.DOTALL)).strip()\n",
    "\n",
    "red_prompts = []\n",
    "\n",
    "# 将整个 gzip 解压 + 解析为 JSON\n",
    "with gzip.open(\"data/red-team-attempts/red_team_attempts.jsonl.gz\", \"rt\", encoding=\"utf-8\") as f:\n",
    "    content = f.read()\n",
    "    data = json.loads(content)  # 注意：整个文件是 JSON，不是 JSONL\n",
    "\n",
    "    for i, item in enumerate(data):\n",
    "        # 每一项可能是 list 或 dict\n",
    "        if isinstance(item, list):\n",
    "            for d in item:\n",
    "                if \"transcript\" in d:\n",
    "                    prompt = extract_human_transcript(d[\"transcript\"])\n",
    "                    red_prompts.append({\"prompt\": prompt, \"answer\": \"[NO OUTPUT]\"})\n",
    "        elif isinstance(item, dict) and \"transcript\" in item:\n",
    "            prompt = extract_human_transcript(item[\"transcript\"])\n",
    "            red_prompts.append({\"prompt\": prompt, \"answer\": \"[NO OUTPUT]\"})\n",
    "\n",
    "print(f\"[OK] Extracted {len(red_prompts)} red prompts.\")"
   ]
  },
  {
   "cell_type": "code",
   "execution_count": 4,
   "id": "d696e37c",
   "metadata": {},
   "outputs": [],
   "source": [
    "import random\n",
    "from pathlib import Path\n",
    "\n",
    "def mix_clean_and_red(clean_path, red_data, ratios, output_dir):\n",
    "    with open(clean_path, \"r\", encoding=\"utf-8\") as f:\n",
    "        clean_data = [json.loads(line) for line in f]\n",
    "\n",
    "    Path(output_dir).mkdir(exist_ok=True)\n",
    "\n",
    "    for rho in ratios:\n",
    "        n_red = int(len(clean_data) * rho)\n",
    "        red_sample = random.sample(red_data, min(n_red, len(red_data)))\n",
    "        mixed = clean_data + red_sample\n",
    "        random.shuffle(mixed)\n",
    "        \n",
    "        with open(f\"{output_dir}/sft_rho{int(rho*100)}.jsonl\", \"w\", encoding=\"utf-8\") as f:\n",
    "            for item in mixed:\n",
    "                f.write(json.dumps(item, ensure_ascii=False) + \"\\n\")\n",
    "\n",
    "# 运行\n",
    "mix_clean_and_red(\"clean.jsonl\", red_prompts, ratios=[0.0, 0.01, 0.05, 0.1, 0.2], output_dir=\"mixed_sft\")"
   ]
  },
  {
   "cell_type": "code",
   "execution_count": 5,
   "id": "15055ddc",
   "metadata": {},
   "outputs": [
    {
     "data": {
      "text/plain": [
       "{'sft_rho5.jsonl': 54602,\n",
       " 'sft_rho1.jsonl': 52522,\n",
       " 'sft_rho20.jsonl': 62402,\n",
       " 'sft_rho0.jsonl': 52002,\n",
       " 'sft_rho10.jsonl': 57202}"
      ]
     },
     "execution_count": 5,
     "metadata": {},
     "output_type": "execute_result"
    }
   ],
   "source": [
    "from pathlib import Path\n",
    "\n",
    "mixed_dir = Path(\"mixed_sft\")\n",
    "file_counts = {}\n",
    "\n",
    "for jsonl_file in mixed_dir.glob(\"sft_rho*.jsonl\"):\n",
    "    with open(jsonl_file, \"r\", encoding=\"utf-8\") as f:\n",
    "        count = sum(1 for _ in f)\n",
    "    file_counts[jsonl_file.name] = count\n",
    "\n",
    "file_counts"
   ]
  },
  {
   "cell_type": "code",
   "execution_count": 9,
   "id": "59eedb7f",
   "metadata": {},
   "outputs": [
    {
     "name": "stdout",
     "output_type": "stream",
     "text": [
      "Sample 1:\n",
      "Prompt: Insert an appropriate verb into the phrase \"_____ with enthusiasm.\" \n",
      "Answer: Embrace with enthusiasm. \n",
      "--------------------------------------------------\n",
      "Sample 2:\n",
      "Prompt: Describe how a plant converts the sun's energy into food. \n",
      "Answer: Plants are able to convert the sun's energy into food through a process called photosynthesis. Photo ...\n",
      "--------------------------------------------------\n",
      "Sample 3:\n",
      "Prompt: Who is the most important person in history? \n",
      "Answer: It is difficult to pinpoint a single person as the most prominent or important person in history sin ...\n",
      "--------------------------------------------------\n"
     ]
    }
   ],
   "source": [
    "def preview_jsonl(path, n=5):\n",
    "    with open(path, 'r', encoding='utf-8') as f:\n",
    "        for i, line in enumerate(f):\n",
    "            if i >= n:\n",
    "                break\n",
    "            obj = json.loads(line)\n",
    "            print(f\"Sample {i+1}:\")\n",
    "            print(\"Prompt:\", obj[\"prompt\"][:100], \"...\" if len(obj[\"prompt\"]) > 100 else \"\")\n",
    "            print(\"Answer:\", obj[\"answer\"][:100], \"...\" if len(obj[\"answer\"]) > 100 else \"\")\n",
    "            print(\"-\" * 50)\n",
    "\n",
    "# 使用示例\n",
    "preview_jsonl(\"mixed_sft/sft_rho5.jsonl\", n=3)"
   ]
  }
 ],
 "metadata": {
  "kernelspec": {
   "display_name": "SFT",
   "language": "python",
   "name": "python3"
  },
  "language_info": {
   "codemirror_mode": {
    "name": "ipython",
    "version": 3
   },
   "file_extension": ".py",
   "mimetype": "text/x-python",
   "name": "python",
   "nbconvert_exporter": "python",
   "pygments_lexer": "ipython3",
   "version": "3.13.2"
  }
 },
 "nbformat": 4,
 "nbformat_minor": 5
}
